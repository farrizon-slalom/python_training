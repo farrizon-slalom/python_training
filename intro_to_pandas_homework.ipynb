{
 "cells": [
  {
   "cell_type": "code",
   "execution_count": 1,
   "metadata": {},
   "outputs": [],
   "source": [
    "##########s\n",
    "# HOMEWORK EXERCISES\n",
    "##########"
   ]
  },
  {
   "cell_type": "code",
   "execution_count": 2,
   "metadata": {},
   "outputs": [],
   "source": [
    "# 1.  Reload the same sales data file used in classroom activities to a new Pandas dataframe."
   ]
  },
  {
   "cell_type": "code",
   "execution_count": 3,
   "metadata": {},
   "outputs": [],
   "source": [
    "# 2.  Create a filtered dataset for the category = 'Accessories' and get a quick visual of the dataframe."
   ]
  },
  {
   "cell_type": "code",
   "execution_count": 4,
   "metadata": {},
   "outputs": [],
   "source": [
    "# 3.  Drop the columns which do not provide any additional value for the accessories dataframe like category name, \n",
    "#     product category key and product style. What is the dimension of this accessories datframe?"
   ]
  },
  {
   "cell_type": "code",
   "execution_count": 5,
   "metadata": {},
   "outputs": [],
   "source": [
    "# 4.  Find out which columns have \"_key\" in their names/headers. Rename those columns replacing \"_key\" with \"_id\". \n",
    "#     Print the column names to check if the renaming worked as expected. [Bonus: Can you do this in a more elegant way\n",
    "#     in a single statement (hint: use a string function)?]"
   ]
  },
  {
   "cell_type": "code",
   "execution_count": 6,
   "metadata": {},
   "outputs": [],
   "source": [
    "# 5.  For the 5 rows starting at index 4500, print the values for the following columns - order_date, order_number, \n",
    "#     product_name, order_quantity, product_price. Do you get 5 rows? Are the indices in order?"
   ]
  },
  {
   "cell_type": "code",
   "execution_count": 7,
   "metadata": {},
   "outputs": [],
   "source": [
    "# 6.  How can you reset the indices to get 5 rows with sequential indices? Do you see the difference in the result sets?"
   ]
  },
  {
   "cell_type": "code",
   "execution_count": 8,
   "metadata": {},
   "outputs": [],
   "source": [
    "# 7.  Update the customer_key/id value for the first row to 18244. Check the result."
   ]
  },
  {
   "cell_type": "code",
   "execution_count": 9,
   "metadata": {},
   "outputs": [],
   "source": [
    "# 8.  Split the order_date to extract all date parts and update the column to use '-' as separator."
   ]
  },
  {
   "cell_type": "code",
   "execution_count": 10,
   "metadata": {},
   "outputs": [],
   "source": [
    "# 9.  Using loop, double the order_quantity for rows 1 to 100 (remember to update the original dataframe)"
   ]
  },
  {
   "cell_type": "code",
   "execution_count": 11,
   "metadata": {},
   "outputs": [],
   "source": [
    "# 10. Create a new column for order_total = order_quantity * product_price."
   ]
  },
  {
   "cell_type": "code",
   "execution_count": 12,
   "metadata": {},
   "outputs": [],
   "source": [
    "# 11. Find out how many rows have order total > $100. Determine the percentage of total as well (round off to \n",
    "#     1 decimal point)."
   ]
  },
  {
   "cell_type": "code",
   "execution_count": 13,
   "metadata": {},
   "outputs": [],
   "source": [
    "# 12. Using range, len, and loc functions, loop over the entire dataframe and print the product_key and product_name."
   ]
  },
  {
   "cell_type": "code",
   "execution_count": 14,
   "metadata": {},
   "outputs": [],
   "source": [
    "# 13. Find out how many missing values are present in the column product_color. Report the percentage of \n",
    "#     missing values. Replace those values with \"Unknown\". You can use loop or there's an inbuilt function to treat \n",
    "#     missing values in python."
   ]
  },
  {
   "cell_type": "code",
   "execution_count": 15,
   "metadata": {},
   "outputs": [],
   "source": [
    "# 14. Which sub-category, product_name and model_name has the highest price? Remove repeated rows to get unique values."
   ]
  }
 ],
 "metadata": {
  "kernelspec": {
   "display_name": "Python 3",
   "language": "python",
   "name": "python3"
  },
  "language_info": {
   "codemirror_mode": {
    "name": "ipython",
    "version": 3
   },
   "file_extension": ".py",
   "mimetype": "text/x-python",
   "name": "python",
   "nbconvert_exporter": "python",
   "pygments_lexer": "ipython3",
   "version": "3.7.7"
  }
 },
 "nbformat": 4,
 "nbformat_minor": 4
}

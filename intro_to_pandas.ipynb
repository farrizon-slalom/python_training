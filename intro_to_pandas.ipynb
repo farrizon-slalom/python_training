{
 "cells": [
  {
   "cell_type": "code",
   "execution_count": null,
   "metadata": {},
   "outputs": [],
   "source": [
    "import pandas as pd"
   ]
  },
  {
   "cell_type": "code",
   "execution_count": null,
   "metadata": {},
   "outputs": [],
   "source": [
    "csv_file_path = './data/sales_data_all.csv'\n",
    "sales_df = pd.read_csv(csv_file_path)\n",
    "\n",
    "# To view the first 5 rows of the populated dataframe, we use the .head() function\n",
    "sales_df.head()"
   ]
  },
  {
   "cell_type": "code",
   "execution_count": null,
   "metadata": {},
   "outputs": [],
   "source": [
    "# By default the max number of rows displayed in pandas is 20, \n",
    "# since we have 21 columns, the first and last ten are currently shown\n",
    "\n",
    "# Similarly the default number of characters is 50, so some values might be cut off\n",
    "\n",
    "# We can force Pandas to show all of the columns using the following commands\n",
    "pd.set_option('display.max_columns', 1000) # Now we will see up to 1000 columns\n",
    "pd.set_option('display.max_colwidth', 1000) # And we will see up to 1000 characters in each column\n",
    "\n",
    "# If we execute the .head() command again, we'll now see all of the data in the first 5 rows\n",
    "sales_df.head()"
   ]
  },
  {
   "cell_type": "code",
   "execution_count": null,
   "metadata": {},
   "outputs": [],
   "source": [
    "# To count the number of rows in a Pandas dataframe, we use the len() function\n",
    "num_rows = len(sales_df)\n",
    "print('The sales dataframe has %d rows' % num_rows)\n",
    "\n",
    "# Pandas Index object can only handle hashable types\n",
    "# To view the names of each column and to count their number, we use the .columns.to_list() function\n",
    "\n",
    "col_names = sales_df.columns\n",
    "print(col_names)\n",
    "col_names = sales_df.columns.to_list()\n",
    "num_cols = len(col_names)\n",
    "\n",
    "print('The sales dataframe has %d columns' % num_cols)\n",
    "print('Their names are: %s' % col_names)"
   ]
  },
  {
   "cell_type": "code",
   "execution_count": null,
   "metadata": {},
   "outputs": [],
   "source": [
    "# To get the number of rows and columns in a single command, we can use .shape\n",
    "df_shape = sales_df.shape # This returns a tuple with 2 values\n",
    "print('The shape of the dataframe is: ', df_shape)\n",
    "\n",
    "# The first value in the tuple is the number of rows, the second is the number of columns\n",
    "num_rows, num_cols = df_shape\n",
    "print('The dataframe has %d rows, and %d columns' % (num_rows, num_cols))"
   ]
  },
  {
   "cell_type": "code",
   "execution_count": null,
   "metadata": {},
   "outputs": [],
   "source": [
    "# To select a single column, we can use a command with format: df['col_name']\n",
    "# For example, if we want to select only the 'order_date' column, we can do\n",
    "order_date_col = sales_df['order_date']\n",
    "order_date_col # Note, this column contains hash values in the anonymized dataset"
   ]
  },
  {
   "cell_type": "code",
   "execution_count": null,
   "metadata": {},
   "outputs": [],
   "source": [
    "# To select multiple columns, we can use a command with format: df[['col_name1', 'col_name2']]\n",
    "# Note: We pass a list of column names inside the outer square brackets\n",
    "# For example, we can do\n",
    "cols = sales_df[['order_date', 'order_number']]\n",
    "cols"
   ]
  },
  {
   "cell_type": "code",
   "execution_count": null,
   "metadata": {},
   "outputs": [],
   "source": [
    "# Editing a Pandas DataFrame\n",
    "# .loc[], .iloc[], .at[], .iat[]\n",
    "\n",
    "# Select first 5 rows \n",
    "\n",
    "# Using Range\n",
    "\n",
    "first_5_rows = sales_df.loc[range(5)]\n",
    "first_5_rows"
   ]
  },
  {
   "cell_type": "code",
   "execution_count": null,
   "metadata": {},
   "outputs": [],
   "source": [
    "# Select 5 rows in the middle of the data frame\n",
    "# Using a slice\n",
    "\n",
    "selection = sales_df.loc[100:105] # Note: this interval is inclusive of both ends and is equivalent to range(100,106)\n",
    "selection "
   ]
  },
  {
   "cell_type": "code",
   "execution_count": null,
   "metadata": {},
   "outputs": [],
   "source": [
    "# Why end-inclusive slicing? Any thoughts?\n",
    "df1 = pd.DataFrame([1, 2, 3, 4], columns = ['X'], index = ['a', 'b', 'c', 'd'])\n",
    "df2 = pd.DataFrame([1, 2, 3, 4], columns = ['X'], index = ['a', 'b', 'c', 'x'])\n",
    "\n",
    "print(df1.loc['b':'c'])\n",
    "print(df2.loc['b':'c'])"
   ]
  },
  {
   "cell_type": "code",
   "execution_count": null,
   "metadata": {},
   "outputs": [],
   "source": [
    "# Using lists to select rows and columns\n",
    "\n",
    "selection = sales_df.loc[100:105, ['product_name', 'model_name']]\n",
    "print(selection)\n",
    "\n",
    "# This is equivalent to doing\n",
    "selection = sales_df.loc[[100, 101, 102, 103, 104, 105], ['product_name', 'model_name']]\n",
    "print(selection)\n",
    "\n",
    "# And also equivalent to doing \n",
    "rows = [100, 101, 102, 103, 104, 105]\n",
    "cols = ['product_name', 'model_name']\n",
    "selection = sales_df.loc[rows, cols]\n",
    "print(selection)"
   ]
  },
  {
   "cell_type": "code",
   "execution_count": null,
   "metadata": {},
   "outputs": [],
   "source": [
    "#### Exercise\n",
    "\n",
    "'''\n",
    "How would I select rows with Indices [0, 5, 10, 15, 20] with .loc[]\n",
    "1. Using range\n",
    "2. Using slice\n",
    "3. Using list\n",
    "'''"
   ]
  },
  {
   "cell_type": "code",
   "execution_count": null,
   "metadata": {},
   "outputs": [],
   "source": [
    "#### Exercise\n",
    "\n",
    "'''\n",
    "How would I select rows with Indices [100, 105, 110, 115, 120] with .loc[] and columns 'order_date', 'product_name'\n",
    "1. Using range\n",
    "2. Using slice\n",
    "3. Using list\n",
    "\n",
    "# Use a list for the column names\n",
    "'''"
   ]
  },
  {
   "cell_type": "code",
   "execution_count": null,
   "metadata": {},
   "outputs": [],
   "source": [
    "# using .iloc[]\n",
    "# Select first 5 rows using range\n",
    "\n",
    "sales_df.iloc[range(6)]"
   ]
  },
  {
   "cell_type": "code",
   "execution_count": null,
   "metadata": {},
   "outputs": [],
   "source": [
    "# Select 5 rows in the middle using a slice\n",
    "sales_df.iloc[100:106]"
   ]
  },
  {
   "cell_type": "code",
   "execution_count": null,
   "metadata": {},
   "outputs": [],
   "source": [
    "# Using lists to select rows and columns\n",
    "\n",
    "selection = sales_df.iloc[100:106, [0, 1]]\n",
    "print(selection)\n",
    "\n",
    "# This is equivalent to doing\n",
    "selection = sales_df.iloc[[100, 101, 102, 103, 104, 105], [0, 1]]\n",
    "print(selection)"
   ]
  },
  {
   "cell_type": "code",
   "execution_count": null,
   "metadata": {},
   "outputs": [],
   "source": [
    "# Exercise with .iloc[]\n",
    "\n",
    "'''\n",
    "1. Get 'product_name' and 'model_name' for rows 10, 15 using .iloc[]\n",
    "2. Get 'order_date', 'product_key' for rows 10, 15, 20 using slice for rows and list for columns\n",
    "3. Get 'order_date', 'order_number', 'customer_key' for rows 100 to 105 (including 105) using range for rows and slice for columns\n",
    "'''"
   ]
  },
  {
   "cell_type": "code",
   "execution_count": null,
   "metadata": {},
   "outputs": [],
   "source": [
    "# .at[] is optimized to return scalar values\n",
    "\n",
    "sales_df.at[0, 'order_date']"
   ]
  },
  {
   "cell_type": "code",
   "execution_count": null,
   "metadata": {},
   "outputs": [],
   "source": [
    "sales_df.iat[0, 0]"
   ]
  },
  {
   "cell_type": "code",
   "execution_count": null,
   "metadata": {},
   "outputs": [],
   "source": [
    "# Exercise\n",
    "\n",
    "'''\n",
    "# Will this work?\n",
    "# sales_df.at[0, ['order_date', 'product_key']]\n",
    "'''"
   ]
  },
  {
   "cell_type": "code",
   "execution_count": null,
   "metadata": {},
   "outputs": [],
   "source": [
    "# Setting values with .loc[], .iloc[], .at[], .iat[]\n",
    "\n",
    "sales_df.loc[0, 'order_date'] = '9/9/9'\n",
    "sales_df.head(1)"
   ]
  },
  {
   "cell_type": "code",
   "execution_count": null,
   "metadata": {},
   "outputs": [],
   "source": [
    "sales_df.loc[0, ['order_date', 'product_key']] = ['1/2/3', 123]\n",
    "sales_df.head(1)"
   ]
  },
  {
   "cell_type": "code",
   "execution_count": null,
   "metadata": {},
   "outputs": [],
   "source": [
    "sales_df.loc[0:1, ['order_date', 'product_key']] = [['1/2/3', 123], ['1/2/3', 123]]\n",
    "sales_df.head(2)"
   ]
  },
  {
   "cell_type": "code",
   "execution_count": null,
   "metadata": {},
   "outputs": [],
   "source": [
    "sales_df.iloc[0, 0] = '19/19/19'\n",
    "sales_df.head(1)"
   ]
  },
  {
   "cell_type": "code",
   "execution_count": null,
   "metadata": {},
   "outputs": [],
   "source": [
    "# Exercise\n",
    "\n",
    "'''\n",
    "# sales_df.loc[0, ['order_date', 'product_key']] = ['1/2/3', 123]\n",
    "\n",
    "How can we reproduce the above using .iloc[]\n",
    "'''"
   ]
  },
  {
   "cell_type": "code",
   "execution_count": null,
   "metadata": {},
   "outputs": [],
   "source": [
    "sales_df.iloc[0:2, [0, 1]] = [['20/20/20', 'abc123'], ['20/20/20', 'abc123']]\n",
    "sales_df.head(3)"
   ]
  },
  {
   "cell_type": "code",
   "execution_count": null,
   "metadata": {},
   "outputs": [],
   "source": [
    "# For example, if we want to edit the order_date of the 1st row, we can do\n",
    "sales_df.at[0, 'order_date'] = '12/12/3000'\n",
    "# Let's make sure that worked\n",
    "sales_df.head(1)"
   ]
  },
  {
   "cell_type": "code",
   "execution_count": null,
   "metadata": {
    "scrolled": false
   },
   "outputs": [],
   "source": [
    "# The same thing works with .at[] as well\n",
    "sales_df.at[0, ['order_date', 'product_key']] = ['1/2/3', 123]\n",
    "sales_df"
   ]
  },
  {
   "cell_type": "code",
   "execution_count": null,
   "metadata": {},
   "outputs": [],
   "source": [
    "# Exercise\n",
    "\n",
    "'''\n",
    "Can I do this?\n",
    "1. sales_df.loc[0, 5:7]\n",
    "2. sales_df.iat[0, [0, 1]] = ['1/2/3', 'abc123']\n",
    "3. sales_df.at[0, ['order_date', 'territory_key']]\n",
    "'''"
   ]
  },
  {
   "cell_type": "code",
   "execution_count": null,
   "metadata": {},
   "outputs": [],
   "source": [
    "# Exercise\n",
    "\n",
    "'''\n",
    "# sales_df.loc[0, ...] = [9, 9, 9]\n",
    "# What should I replace ... with to edit the columns 'territory_key', 'order_line_item' and 'order_quantity'\n",
    "'''"
   ]
  },
  {
   "cell_type": "code",
   "execution_count": null,
   "metadata": {},
   "outputs": [],
   "source": [
    "# Exercise\n",
    "\n",
    "'''\n",
    "Use .iloc[] to change the order date on the second row to 9/11/9\n",
    "'''"
   ]
  },
  {
   "cell_type": "code",
   "execution_count": null,
   "metadata": {},
   "outputs": [],
   "source": [
    "# Here's an example where we change a value based on its current value\n",
    "current_value = sales_df.loc[5, 'subcategory_name']\n",
    "print('Current value:', current_value)\n",
    "\n",
    "# Who can tell what this line is doing?\n",
    "new_value = '-'.join(current_value.lower().split()) \n",
    "sales_df.at[5, 'subcategory_name'] = new_value\n",
    "\n",
    "# Again, let's make sure that worked\n",
    "sales_df.loc[5, 'subcategory_name']"
   ]
  },
  {
   "cell_type": "code",
   "execution_count": null,
   "metadata": {},
   "outputs": [],
   "source": [
    "### Exercise \n",
    "\n",
    "'''\n",
    "Using .loc[], update the dataframe by adding 10 to all even rows between 0 and 10 to the column 'order_quantity'\n",
    "'''"
   ]
  },
  {
   "cell_type": "code",
   "execution_count": null,
   "metadata": {},
   "outputs": [],
   "source": [
    "# Finding rows based on column value\n",
    "\n",
    "# Find rows with order_quantity 1\n",
    "\n",
    "sales_df[sales_df['order_quantity'] == 1]"
   ]
  },
  {
   "cell_type": "code",
   "execution_count": null,
   "metadata": {},
   "outputs": [],
   "source": [
    "# Data can be saved from a Pandas dataframe to a variety of file types\n",
    "# Similar to loading, we'll focus on 2 types: csv files and pickle files \n",
    "\n",
    "# There are both pros and cons of saving dataframe to CSV files\n",
    "# Pros: Will be essentially a text file which can be opened with a text editor or excel.\n",
    "# Cons: Variable types can be lost (ex: integer, float, string, dates). Not convenient if \n",
    "# the dataframe contains complex types such as lists, dictionaries, images, etc...\n",
    "\n",
    "# Similar to loading from a CSV file, we first define a filepath, and then use a function to save\n",
    "# Note: We've made some changes to the original dataframe, so be sure to save to a NEW FILE\n",
    "\n",
    "new_csv_file_path = './data/sales_data_all_edited.csv'\n",
    "sales_df.to_csv(path_or_buf=new_csv_file_path, header=True, index=False, sep=',')\n",
    "\n",
    "# sales_df.to_csv(new_csv_file_path, index = False)"
   ]
  },
  {
   "cell_type": "code",
   "execution_count": null,
   "metadata": {},
   "outputs": [],
   "source": [
    "# Pickle files are best practice\n",
    "# This will create a binary file that keeps all the attributes of the data \n",
    "# (including date, number, string types, NAs, etc...).\n",
    "\n",
    "# Similar to loading from a pickle file, we first define a filepath, and then open the file, then dump the data\n",
    "# Note: We've made some changes to the original dataframe, so be sure to save to a NEW FILE\n",
    "\n",
    "new_pickle_file_path = './data/sales_data_all_edited.pickle'\n",
    "sales_df.to_pickle(new_pickle_file_path)"
   ]
  },
  {
   "cell_type": "code",
   "execution_count": null,
   "metadata": {},
   "outputs": [],
   "source": [
    "original_data = pd.read_csv('./data/sales_data_all.csv')\n",
    "pickled_data = pd.read_pickle('./data/sales_data_all_edited.pickle')\n",
    "\n",
    "print(\"Original : \\n\", original_data.iloc[:5, :5])\n",
    "print(\"Pickled : \\n\", pickled_data.iloc[:5, :5])"
   ]
  },
  {
   "cell_type": "code",
   "execution_count": null,
   "metadata": {},
   "outputs": [],
   "source": [
    "# Sometimes it is useful to loop over many rows in a dataframe\n",
    "# Note: There are almost always more efficient ways to access / edit dataframe values\n",
    "#       And we will cover many of those techniques in the next module. However it is still good to know\n",
    "#       how to loop. See this forum post for more details:\n",
    "#       https://stackoverflow.com/questions/16476924/how-to-iterate-over-rows-in-a-dataframe-in-pandas/55557758#55557758\n",
    "\n",
    "# To loop over rows in a dataframe, we can use the .iterrows() function in a for loop\n",
    "# This function is similar to the enumerate() function we've used before on lists\n",
    "# Inside the loop, we have access to both the row index and the row values\n",
    "\n",
    "# Let's take a look at what we can access for a single row\n",
    "# Note: We can chain the .iterrows() function at the end of another function like .head()\n",
    "\n",
    "for index, row in sales_df.head(1).iterrows():\n",
    "    print('Index: %d' % index)\n",
    "    print('Row:')\n",
    "    print(row)\n",
    "\n",
    "# We can easily access individual column values on each iteration\n",
    "for index, row in sales_df.head(5).iterrows():\n",
    "    print(row['order_date'])"
   ]
  },
  {
   "cell_type": "code",
   "execution_count": null,
   "metadata": {},
   "outputs": [],
   "source": [
    "# Note: During the looping, we are accessing copies of the original dataframe rows\n",
    "# This means that if we try to assign new values to the row, the original dataframe will not be updated\n",
    "# For example, let's look at several values before we loop\n",
    "print(sales_df.loc[0:4, 'order_quantity'])\n",
    "\n",
    "# Now we will loop and INCORRECTLY update the values\n",
    "for index, row in sales_df.head(5).iterrows():\n",
    "    row['order_quantity'] = row['order_quantity'] + 10\n",
    "\n",
    "# To confirm that the update did not work\n",
    "print(sales_df.loc[0:4, 'order_quantity'])"
   ]
  },
  {
   "cell_type": "code",
   "execution_count": null,
   "metadata": {},
   "outputs": [],
   "source": [
    "# However, we can use the .at[] command we just learned inside the loop to correctly perform updates\n",
    "# Let's try that again:\n",
    "print(sales_df.loc[0:4, 'order_quantity'])\n",
    "for index, row in sales_df.head(5).iterrows():\n",
    "    sales_df.at[index, 'order_quantity'] = row['order_quantity'] + 10 # Note: We use the index value to select the original row\n",
    "# To confirm that the update did work\n",
    "print(sales_df.loc[0:4, 'order_quantity'])"
   ]
  },
  {
   "cell_type": "code",
   "execution_count": null,
   "metadata": {},
   "outputs": [],
   "source": [
    "# One more example of looping\n",
    "# We will loop through all the rows and count the number of times a particular condition is met\n",
    "# In the next module, we will show how to perform the same computation in a fraction of the time\n",
    "import time\n",
    "col = 'territory_key'\n",
    "threshold = 7\n",
    "count = 0\n",
    "start_time = time.time() # Start a timer\n",
    "for index, row in sales_df.iterrows():\n",
    "    if row[col] > threshold:\n",
    "        count += 1\n",
    "end_time = time.time() # End the timer\n",
    "print('%s exceeded %.2f a total of %d times' % (col, threshold, count))\n",
    "print('Computation took %.2f seconds' % (end_time - start_time))"
   ]
  },
  {
   "cell_type": "code",
   "execution_count": null,
   "metadata": {},
   "outputs": [],
   "source": [
    "# Exercise\n",
    "\n",
    "'''\n",
    "Using .iloc[], add 100 to the order quantity of all even rows\n",
    "'''"
   ]
  },
  {
   "cell_type": "code",
   "execution_count": null,
   "metadata": {},
   "outputs": [],
   "source": [
    "# To change the names of 1 or more columns, we first build a dictionary\n",
    "# The dictionary has key:value pairs that are old_value:new_value\n",
    "rename_dict = {'order_date': 'edited_col_1', 'stock_date': 'edited_col_2'}\n",
    "\n",
    "# If we want to create a new dataframe (copy of original) and then change to column names, we can do\n",
    "renamed_sales_df = sales_df.rename(rename_dict, axis=1) # Axis 1 means columns, Axis 0 can be used for rows\n",
    "\n",
    "# Let's confirm that the new dataframe has the new column names\n",
    "new_cols = renamed_sales_df.columns.to_list()\n",
    "print(new_cols)\n",
    "\n",
    "# If we want to edit the column names in the original dataframe, we can use inplace=True in the function call\n",
    "sales_df.rename(rename_dict, axis=1, inplace=True) # Note: This is done in place, so we do not use an assignment statement\n",
    "\n",
    "# Let's confirm that the original dataframe has the new column names\n",
    "new_cols = sales_df.columns.to_list()\n",
    "print(new_cols)"
   ]
  },
  {
   "cell_type": "code",
   "execution_count": null,
   "metadata": {},
   "outputs": [],
   "source": [
    "# Exercise\n",
    "\n",
    "'''\n",
    "Rename the first 3 indices to 'a', 'b', 'c' in a new dataframe\n",
    "'''"
   ]
  },
  {
   "cell_type": "code",
   "execution_count": null,
   "metadata": {},
   "outputs": [],
   "source": [
    "# Adding a new column is similar to adding a new key:value pair in a dictionary\n",
    "sales_df['new_col_1'] = 'new_value' # Note: This will place a 'new_value' string in every row of the dataframe\n",
    "print(sales_df['new_col_1'])\n",
    "\n",
    "# We can also add a new column with a list of value\n",
    "# Note: It is important that the length of the list matches the number of rows in the dataframe\n",
    "num_rows = len(sales_df)\n",
    "sales_df['new_col_2'] = [x * 2 for x in range(num_rows)] # Who can tell what this is adding to the new column?\n",
    "print(sales_df['new_col_2'])\n",
    "\n",
    "# # We can drop 1 or more columns using the .drop() function\n",
    "sales_df.drop(['new_col_1', 'new_col_2'], axis=1, inplace=True) # Again, we use inplace=True\n",
    "\n",
    "# We can also use - copy created\n",
    "# sales_df.drop(columns = ['new_col_1', 'new_col_2'])\n",
    "\n",
    "# Let's confirm that worked\n",
    "print(sales_df.columns.to_list())"
   ]
  },
  {
   "cell_type": "code",
   "execution_count": null,
   "metadata": {},
   "outputs": [],
   "source": [
    "########################\n",
    "# ACTIVITIES\n",
    "########################\n",
    "# Now, let's have some fun :)\n",
    "########################\n",
    "\n",
    "##########\n",
    "# 5.1 ACTIVITY 1\n",
    "##########\n",
    "\n",
    "# 1. Load the original 'sales_data_all.pickle' file into a Pandas dataframe \n",
    "# 2. For the first and last row, print the values in the following columns:\n",
    "#    'order_number', 'customer_key', 'model_name', and 'subcategory_name'\n",
    "# 3. Now, for rows with index 20, 200, 2000, and 20000, print the values in the same 4 columns\n",
    "# 4. Update rows 1, 4, 7, 10 using range and .iloc[] with the values [ABCD, 1234, Patch kit, Tires & Tubes]\n",
    "\n",
    "###\n",
    "# YOUR CODE HERE\n",
    "\n",
    "\n",
    "\n",
    "###"
   ]
  },
  {
   "cell_type": "code",
   "execution_count": null,
   "metadata": {},
   "outputs": [],
   "source": [
    "##########s\n",
    "# 5.2 ACTIVITY 2\n",
    "##########\n",
    "\n",
    "# 1. Use the same Pandas dataframe as in Activity 5.1\n",
    "# 2. Determine how many rows have the same value for both 'order_line_item' and 'order_quantity'\n",
    "#    Also, determine what percentage of total rows this value is\n",
    "# 3. Determine how many rows have the same value for both 'product_category_key' and 'product_subcategory_key'\n",
    "#    Also, determine what percentage of total rows this value is\n",
    "###\n",
    "# YOUR CODE HERE\n",
    "\n",
    "\n",
    "\n",
    "###\n",
    "\n",
    "# Correct results for step 2: 26262 (46.86%)\n",
    "# Correct results for step 3: 4706  (08.39%)"
   ]
  },
  {
   "cell_type": "code",
   "execution_count": null,
   "metadata": {},
   "outputs": [],
   "source": []
  }
 ],
 "metadata": {
  "kernelspec": {
   "display_name": "Python 3",
   "language": "python",
   "name": "python3"
  },
  "language_info": {
   "codemirror_mode": {
    "name": "ipython",
    "version": 3
   },
   "file_extension": ".py",
   "mimetype": "text/x-python",
   "name": "python",
   "nbconvert_exporter": "python",
   "pygments_lexer": "ipython3",
   "version": "3.7.7"
  }
 },
 "nbformat": 4,
 "nbformat_minor": 4
}
